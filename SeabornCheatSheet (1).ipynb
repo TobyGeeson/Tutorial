{
 "cells": [
  {
   "cell_type": "code",
   "execution_count": null,
   "metadata": {
    "id": "RHHOqGj4fw8m"
   },
   "outputs": [],
   "source": [
    "import seaborn as sns\n",
    "import matplotlib.pyplot as plt\n",
    "\n",
    "# Load a dataset (example using the 'tips' dataset)\n",
    "tips_df = sns.load_dataset(\"tips\")\n",
    "\n",
    "# Barplot: Used to compare values across different categories.\n",
    "sns.barplot(x='day', y='total_bill', data=tips_df)\n",
    "sns.barplot(x='day', y='total_bill', hue='sex', data=tips_df)\n",
    "\n",
    "# Countplot: Useful for counting occurrences of categorical data.\n",
    "sns.countplot(x='sex', data=tips_df)\n",
    "\n",
    "# Violin Plot: Displays distribution of data across categories, great for comparing multiple distributions.\n",
    "sns.violinplot(x='day', y='total_bill', data=tips_df)\n",
    "sns.violinplot(x='day', y='total_bill', hue='sex', data=tips_df)\n",
    "\n",
    "# Scatterplot: Used to show relationship between two numerical variables.\n",
    "sns.scatterplot(x='total_bill', y='tip', data=tips_df)\n",
    "sns.scatterplot(x='total_bill', y='tip', hue='day', data=tips_df)\n",
    "\n",
    "# Histogram: Represents the distribution of a single variable.\n",
    "sns.histplot(data=tips_df, x='total_bill', kde=True, bins=20)\n",
    "sns.histplot(data=tips_df, x='total_bill', kde=False, bins=20)\n",
    "\n",
    "# KDE Plot: Shows the probability density of a continuous variable.\n",
    "crash_df = sns.load_dataset('car_crashes')\n",
    "sns.kdeplot(crash_df['alcohol'])\n",
    "\n",
    "# Displot: Combines histogram and KDE to show the distribution of a variable.\n",
    "sns.displot(crash_df['not_distracted'], kde=False, bins=25)\n",
    "\n",
    "# Boxplot: Used to display distribution of data and identify outliers.\n",
    "sns.boxplot(x='day', y='total_bill', data=tips_df)\n",
    "sns.boxplot(x='day', y='total_bill', data=tips_df, hue='sex')\n",
    "\n",
    "# Pairplot: Creates scatterplots between numerical variables in a dataset.\n",
    "sns.pairplot(tips_df)\n",
    "\n",
    "# Jointplot: Shows the relationship between two numerical variables with scatterplot and marginal distributions.\n",
    "sns.jointplot(data=tips_df, x='total_bill', y='tip', kind='scatter')\n",
    "sns.jointplot(data=tips_df, x='total_bill', y='tip', kind='reg')\n",
    "sns.jointplot(data=tips_df, x='total_bill', y='tip', kind='hex')\n",
    "\n",
    "# Heatmap: Displays a matrix of data with color-coded values.\n",
    "titanic = sns.load_dataset('titanic')\n",
    "sns.heatmap(titanic.corr(), cmap='coolwarm')\n",
    "\n",
    "# Customize plots with titles and labels\n",
    "plt.title('Custom Title')\n",
    "plt.xlabel('X-axis Label')\n",
    "plt.ylabel('Y-axis Label')\n",
    "\n",
    "# Show plots\n",
    "plt.show()"
   ]
  }
 ],
 "metadata": {
  "colab": {
   "provenance": []
  },
  "kernelspec": {
   "display_name": "Python 3 (ipykernel)",
   "language": "python",
   "name": "python3"
  },
  "language_info": {
   "codemirror_mode": {
    "name": "ipython",
    "version": 3
   },
   "file_extension": ".py",
   "mimetype": "text/x-python",
   "name": "python",
   "nbconvert_exporter": "python",
   "pygments_lexer": "ipython3",
   "version": "3.10.9"
  }
 },
 "nbformat": 4,
 "nbformat_minor": 1
}
