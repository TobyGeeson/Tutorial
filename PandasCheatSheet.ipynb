{
 "cells": [
  {
   "cell_type": "code",
   "execution_count": null,
   "metadata": {
    "id": "RHHOqGj4fw8m"
   },
   "outputs": [],
   "source": [
    "import pandas as pd\n",
    "\n",
    "# Creating a DataFrame from a file\n",
    "df = pd.read_excel('data.xlsx')\n",
    "\n",
    "# Displaying the first few rows\n",
    "df.head()\n",
    "\n",
    "# Displaying column data types and non-null counts\n",
    "df.info()\n",
    "\n",
    "# Summary statistics for numeric columns\n",
    "df.describe()\n",
    "\n",
    "# Counting unique values in a column\n",
    "df['Name'].value_counts()\n",
    "\n",
    "# Calculating the mean of a column\n",
    "df['Age'].mean()\n",
    "\n",
    "# Maximum value in a column\n",
    "df['Age'].max()\n",
    "\n",
    "# Minimum value in a column\n",
    "df['Age'].min()\n",
    "\n",
    "# Renaming a column\n",
    "df.rename(columns={'Fav Number [missing Values]': 'Fav Num'}, inplace=True)\n",
    "\n",
    "# Filtering rows based on a condition\n",
    "filtered_data = df[df['Age'] < 25]\n",
    "\n",
    "# Sorting the DataFrame by a column\n",
    "sorted_data = df.sort_values(by='Fav Num', ascending=False)\n",
    "\n",
    "# Selecting specific columns\n",
    "selected_columns = df[['Name', 'Age']]\n",
    "\n",
    "# Grouping by a column and calculating statistics\n",
    "grouped_mean = df.groupby('Fav Colour')['Age'].mean()\n",
    "grouped_max = df.groupby('Fav Colour')['Fav Num'].max()\n",
    "\n",
    "# Adding a new column with calculated values\n",
    "df['Age Plus Ten'] = df['Age'] + 10\n",
    "\n",
    "# Adding a new column with a constant value\n",
    "average_age = df['Age'].mean()\n",
    "df['Average Age'] = average_age\n",
    "\n",
    "# Dropping columns\n",
    "df.drop(columns=['Average Age', 'Age Plus Ten'], inplace=True)\n",
    "\n",
    "# Handling missing values\n",
    "newdf = df.dropna()  # Drop rows with any NaN values\n",
    "newdf2 = df.fillna('5')  # Fill NaN values with a specified value\n",
    "df.dropna(subset=['Fav Num'], inplace=True)  # Drop rows with NaN values in a specific column\n",
    "average_fav_num = df['Fav Num'].mean()\n",
    "df['Fav Num'] = df['Fav Num'].fillna(average_fav_num)\n",
    "\n",
    "# Reshaping and Pivoting Data\n",
    "pivoted_df = df.pivot_table(index='Fav Colour', columns='Name', values='Age')\n",
    "\n",
    "# Display the shape of the DataFrame\n",
    "print(\"Shape of DataFrame:\", df.shape)\n",
    "\n",
    "# Display the DataFrame with the updated data\n",
    "print(df)\n"
   ]
  }
 ],
 "metadata": {
  "colab": {
   "provenance": []
  },
  "kernelspec": {
   "display_name": "Python 3 (ipykernel)",
   "language": "python",
   "name": "python3"
  },
  "language_info": {
   "codemirror_mode": {
    "name": "ipython",
    "version": 3
   },
   "file_extension": ".py",
   "mimetype": "text/x-python",
   "name": "python",
   "nbconvert_exporter": "python",
   "pygments_lexer": "ipython3",
   "version": "3.10.9"
  }
 },
 "nbformat": 4,
 "nbformat_minor": 1
}
